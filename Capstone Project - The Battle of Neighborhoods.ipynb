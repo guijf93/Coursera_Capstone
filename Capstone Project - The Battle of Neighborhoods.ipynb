{
 "cells": [
  {
   "cell_type": "markdown",
   "metadata": {},
   "source": [
    "<b><h4>Capstone Project - The Battle of Neighborhoods</h4></b>\n",
    "</br> Week 1:\n",
    "</br> <b>Introduction/Business Problem</b>"
   ]
  },
  {
   "cell_type": "markdown",
   "metadata": {},
   "source": [
    "On 2010 an investor is studying the possibility of opening three TACOBELL (Fast Food of Mexican food) franchises in three different Brazilian states, however he is having trouble deciding which ones these will be, given that Brazil has 27 states.\n",
    "\n",
    "Our job will be to assist this investor in identifying which states can bring the best return on their investment. We will be based on the number of Mexican emigrants and tourists in each state and assign a weight to each type of information, for example, a Mexican emigrant has a greater weight in the decision than a Mexican tourist."
   ]
  },
  {
   "cell_type": "markdown",
   "metadata": {},
   "source": [
    "<b>Data/Problem</b>"
   ]
  },
  {
   "cell_type": "markdown",
   "metadata": {},
   "source": [
    "We will extract the information from Mexican migrants and tourists in Brazil based on the Brazilian government website. The analysis will be done with data based on 2010.\n",
    "</br>\n",
    "</br> <u>Reference</u>\n",
    "</br>Emigrants: https://sidra.ibge.gov.br/home/ipca15/brasil\n",
    "</br>Tourists: http://dadosefatos.turismo.gov.br/2016-02-04-11-53-05.html\n",
    "</br>\n",
    "</br>For each tourist weight 1 will be assigned. For each emigrant weight 3 will be assigned. In other words an emigrant is worth three times more than a tourist in our analysis.\n",
    "</br>\n",
    "</br>After that we will be able to have a vision by state of which region has greater influence from the Mexican community in Brazil, impacting directly in the decision of our investor."
   ]
  },
  {
   "cell_type": "code",
   "execution_count": null,
   "metadata": {},
   "outputs": [],
   "source": []
  }
 ],
 "metadata": {
  "kernelspec": {
   "display_name": "Python",
   "language": "python",
   "name": "conda-env-python-py"
  },
  "language_info": {
   "codemirror_mode": {
    "name": "ipython",
    "version": 3
   },
   "file_extension": ".py",
   "mimetype": "text/x-python",
   "name": "python",
   "nbconvert_exporter": "python",
   "pygments_lexer": "ipython3",
   "version": "3.6.10"
  }
 },
 "nbformat": 4,
 "nbformat_minor": 4
}
